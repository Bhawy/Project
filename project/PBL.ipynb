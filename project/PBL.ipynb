{
 "cells": [
  {
   "cell_type": "code",
   "execution_count": 8,
   "id": "2ce3aee4-815d-4da1-922b-6cdd7fc75a22",
   "metadata": {},
   "outputs": [
    {
     "name": "stdout",
     "output_type": "stream",
     "text": [
      "Requirement already satisfied: tensorflow==2.12.1 in c:\\users\\bhawy\\appdata\\local\\programs\\python\\python311\\lib\\site-packages (2.12.1)\n",
      "Requirement already satisfied: opencv-python in c:\\users\\bhawy\\appdata\\local\\programs\\python\\python311\\lib\\site-packages (4.8.0.76)\n",
      "Requirement already satisfied: mediapipe in c:\\users\\bhawy\\appdata\\local\\programs\\python\\python311\\lib\\site-packages (0.10.3)\n",
      "Requirement already satisfied: matplotlib in c:\\users\\bhawy\\appdata\\local\\programs\\python\\python311\\lib\\site-packages (3.7.2)\n",
      "Requirement already satisfied: tensorflow-intel==2.12.1 in c:\\users\\bhawy\\appdata\\local\\programs\\python\\python311\\lib\\site-packages (from tensorflow==2.12.1) (2.12.1)\n",
      "Requirement already satisfied: absl-py>=1.0.0 in c:\\users\\bhawy\\appdata\\local\\programs\\python\\python311\\lib\\site-packages (from tensorflow-intel==2.12.1->tensorflow==2.12.1) (1.4.0)\n",
      "Requirement already satisfied: astunparse>=1.6.0 in c:\\users\\bhawy\\appdata\\local\\programs\\python\\python311\\lib\\site-packages (from tensorflow-intel==2.12.1->tensorflow==2.12.1) (1.6.3)\n",
      "Requirement already satisfied: flatbuffers>=2.0 in c:\\users\\bhawy\\appdata\\local\\programs\\python\\python311\\lib\\site-packages (from tensorflow-intel==2.12.1->tensorflow==2.12.1) (23.5.26)\n",
      "Requirement already satisfied: gast<=0.4.0,>=0.2.1 in c:\\users\\bhawy\\appdata\\local\\programs\\python\\python311\\lib\\site-packages (from tensorflow-intel==2.12.1->tensorflow==2.12.1) (0.4.0)\n",
      "Requirement already satisfied: google-pasta>=0.1.1 in c:\\users\\bhawy\\appdata\\local\\programs\\python\\python311\\lib\\site-packages (from tensorflow-intel==2.12.1->tensorflow==2.12.1) (0.2.0)\n",
      "Requirement already satisfied: h5py>=2.9.0 in c:\\users\\bhawy\\appdata\\local\\programs\\python\\python311\\lib\\site-packages (from tensorflow-intel==2.12.1->tensorflow==2.12.1) (3.9.0)\n",
      "Requirement already satisfied: jax>=0.3.15 in c:\\users\\bhawy\\appdata\\local\\programs\\python\\python311\\lib\\site-packages (from tensorflow-intel==2.12.1->tensorflow==2.12.1) (0.4.14)\n",
      "Requirement already satisfied: libclang>=13.0.0 in c:\\users\\bhawy\\appdata\\local\\programs\\python\\python311\\lib\\site-packages (from tensorflow-intel==2.12.1->tensorflow==2.12.1) (16.0.6)\n",
      "Requirement already satisfied: numpy<=1.24.3,>=1.22 in c:\\users\\bhawy\\appdata\\local\\programs\\python\\python311\\lib\\site-packages (from tensorflow-intel==2.12.1->tensorflow==2.12.1) (1.24.3)\n",
      "Requirement already satisfied: opt-einsum>=2.3.2 in c:\\users\\bhawy\\appdata\\local\\programs\\python\\python311\\lib\\site-packages (from tensorflow-intel==2.12.1->tensorflow==2.12.1) (3.3.0)\n",
      "Requirement already satisfied: packaging in c:\\users\\bhawy\\appdata\\local\\programs\\python\\python311\\lib\\site-packages (from tensorflow-intel==2.12.1->tensorflow==2.12.1) (23.1)\n",
      "Requirement already satisfied: protobuf!=4.21.0,!=4.21.1,!=4.21.2,!=4.21.3,!=4.21.4,!=4.21.5,<5.0.0dev,>=3.20.3 in c:\\users\\bhawy\\appdata\\local\\programs\\python\\python311\\lib\\site-packages (from tensorflow-intel==2.12.1->tensorflow==2.12.1) (3.20.3)\n",
      "Requirement already satisfied: setuptools in c:\\users\\bhawy\\appdata\\local\\programs\\python\\python311\\lib\\site-packages (from tensorflow-intel==2.12.1->tensorflow==2.12.1) (65.5.0)\n",
      "Requirement already satisfied: six>=1.12.0 in c:\\users\\bhawy\\appdata\\local\\programs\\python\\python311\\lib\\site-packages (from tensorflow-intel==2.12.1->tensorflow==2.12.1) (1.16.0)\n",
      "Requirement already satisfied: termcolor>=1.1.0 in c:\\users\\bhawy\\appdata\\local\\programs\\python\\python311\\lib\\site-packages (from tensorflow-intel==2.12.1->tensorflow==2.12.1) (2.3.0)\n",
      "Requirement already satisfied: typing-extensions<4.6.0,>=3.6.6 in c:\\users\\bhawy\\appdata\\local\\programs\\python\\python311\\lib\\site-packages (from tensorflow-intel==2.12.1->tensorflow==2.12.1) (4.5.0)\n",
      "Requirement already satisfied: wrapt<1.15,>=1.11.0 in c:\\users\\bhawy\\appdata\\local\\programs\\python\\python311\\lib\\site-packages (from tensorflow-intel==2.12.1->tensorflow==2.12.1) (1.14.1)\n",
      "Requirement already satisfied: grpcio<2.0,>=1.24.3 in c:\\users\\bhawy\\appdata\\local\\programs\\python\\python311\\lib\\site-packages (from tensorflow-intel==2.12.1->tensorflow==2.12.1) (1.57.0)\n",
      "Requirement already satisfied: tensorboard<2.13,>=2.12 in c:\\users\\bhawy\\appdata\\local\\programs\\python\\python311\\lib\\site-packages (from tensorflow-intel==2.12.1->tensorflow==2.12.1) (2.12.3)\n",
      "Requirement already satisfied: tensorflow-estimator<2.13,>=2.12.0 in c:\\users\\bhawy\\appdata\\local\\programs\\python\\python311\\lib\\site-packages (from tensorflow-intel==2.12.1->tensorflow==2.12.1) (2.12.0)\n",
      "Requirement already satisfied: keras<2.13,>=2.12.0 in c:\\users\\bhawy\\appdata\\local\\programs\\python\\python311\\lib\\site-packages (from tensorflow-intel==2.12.1->tensorflow==2.12.1) (2.12.0)\n",
      "Requirement already satisfied: tensorflow-io-gcs-filesystem>=0.23.1 in c:\\users\\bhawy\\appdata\\local\\programs\\python\\python311\\lib\\site-packages (from tensorflow-intel==2.12.1->tensorflow==2.12.1) (0.31.0)\n",
      "Requirement already satisfied: attrs>=19.1.0 in c:\\users\\bhawy\\appdata\\local\\programs\\python\\python311\\lib\\site-packages (from mediapipe) (23.1.0)\n",
      "Requirement already satisfied: opencv-contrib-python in c:\\users\\bhawy\\appdata\\local\\programs\\python\\python311\\lib\\site-packages (from mediapipe) (4.8.0.76)\n",
      "Requirement already satisfied: sounddevice>=0.4.4 in c:\\users\\bhawy\\appdata\\local\\programs\\python\\python311\\lib\\site-packages (from mediapipe) (0.4.6)\n",
      "Requirement already satisfied: contourpy>=1.0.1 in c:\\users\\bhawy\\appdata\\local\\programs\\python\\python311\\lib\\site-packages (from matplotlib) (1.1.0)\n",
      "Requirement already satisfied: cycler>=0.10 in c:\\users\\bhawy\\appdata\\local\\programs\\python\\python311\\lib\\site-packages (from matplotlib) (0.11.0)\n",
      "Requirement already satisfied: fonttools>=4.22.0 in c:\\users\\bhawy\\appdata\\local\\programs\\python\\python311\\lib\\site-packages (from matplotlib) (4.42.1)\n",
      "Requirement already satisfied: kiwisolver>=1.0.1 in c:\\users\\bhawy\\appdata\\local\\programs\\python\\python311\\lib\\site-packages (from matplotlib) (1.4.4)\n",
      "Requirement already satisfied: pillow>=6.2.0 in c:\\users\\bhawy\\appdata\\local\\programs\\python\\python311\\lib\\site-packages (from matplotlib) (10.0.0)\n",
      "Requirement already satisfied: pyparsing<3.1,>=2.3.1 in c:\\users\\bhawy\\appdata\\local\\programs\\python\\python311\\lib\\site-packages (from matplotlib) (3.0.9)\n",
      "Requirement already satisfied: python-dateutil>=2.7 in c:\\users\\bhawy\\appdata\\local\\programs\\python\\python311\\lib\\site-packages (from matplotlib) (2.8.2)\n",
      "Requirement already satisfied: CFFI>=1.0 in c:\\users\\bhawy\\appdata\\local\\programs\\python\\python311\\lib\\site-packages (from sounddevice>=0.4.4->mediapipe) (1.15.1)\n",
      "Requirement already satisfied: wheel<1.0,>=0.23.0 in c:\\users\\bhawy\\appdata\\local\\programs\\python\\python311\\lib\\site-packages (from astunparse>=1.6.0->tensorflow-intel==2.12.1->tensorflow==2.12.1) (0.41.2)\n",
      "Requirement already satisfied: pycparser in c:\\users\\bhawy\\appdata\\local\\programs\\python\\python311\\lib\\site-packages (from CFFI>=1.0->sounddevice>=0.4.4->mediapipe) (2.21)\n",
      "Requirement already satisfied: ml-dtypes>=0.2.0 in c:\\users\\bhawy\\appdata\\local\\programs\\python\\python311\\lib\\site-packages (from jax>=0.3.15->tensorflow-intel==2.12.1->tensorflow==2.12.1) (0.2.0)\n",
      "Requirement already satisfied: scipy>=1.7 in c:\\users\\bhawy\\appdata\\local\\programs\\python\\python311\\lib\\site-packages (from jax>=0.3.15->tensorflow-intel==2.12.1->tensorflow==2.12.1) (1.11.2)\n",
      "Requirement already satisfied: google-auth<3,>=1.6.3 in c:\\users\\bhawy\\appdata\\local\\programs\\python\\python311\\lib\\site-packages (from tensorboard<2.13,>=2.12->tensorflow-intel==2.12.1->tensorflow==2.12.1) (2.22.0)\n",
      "Requirement already satisfied: google-auth-oauthlib<1.1,>=0.5 in c:\\users\\bhawy\\appdata\\local\\programs\\python\\python311\\lib\\site-packages (from tensorboard<2.13,>=2.12->tensorflow-intel==2.12.1->tensorflow==2.12.1) (1.0.0)\n",
      "Requirement already satisfied: markdown>=2.6.8 in c:\\users\\bhawy\\appdata\\local\\programs\\python\\python311\\lib\\site-packages (from tensorboard<2.13,>=2.12->tensorflow-intel==2.12.1->tensorflow==2.12.1) (3.4.4)\n",
      "Requirement already satisfied: requests<3,>=2.21.0 in c:\\users\\bhawy\\appdata\\local\\programs\\python\\python311\\lib\\site-packages (from tensorboard<2.13,>=2.12->tensorflow-intel==2.12.1->tensorflow==2.12.1) (2.31.0)\n",
      "Requirement already satisfied: tensorboard-data-server<0.8.0,>=0.7.0 in c:\\users\\bhawy\\appdata\\local\\programs\\python\\python311\\lib\\site-packages (from tensorboard<2.13,>=2.12->tensorflow-intel==2.12.1->tensorflow==2.12.1) (0.7.1)\n",
      "Requirement already satisfied: werkzeug>=1.0.1 in c:\\users\\bhawy\\appdata\\local\\programs\\python\\python311\\lib\\site-packages (from tensorboard<2.13,>=2.12->tensorflow-intel==2.12.1->tensorflow==2.12.1) (2.3.7)\n",
      "Requirement already satisfied: cachetools<6.0,>=2.0.0 in c:\\users\\bhawy\\appdata\\local\\programs\\python\\python311\\lib\\site-packages (from google-auth<3,>=1.6.3->tensorboard<2.13,>=2.12->tensorflow-intel==2.12.1->tensorflow==2.12.1) (5.3.1)\n",
      "Requirement already satisfied: pyasn1-modules>=0.2.1 in c:\\users\\bhawy\\appdata\\local\\programs\\python\\python311\\lib\\site-packages (from google-auth<3,>=1.6.3->tensorboard<2.13,>=2.12->tensorflow-intel==2.12.1->tensorflow==2.12.1) (0.3.0)\n",
      "Requirement already satisfied: rsa<5,>=3.1.4 in c:\\users\\bhawy\\appdata\\local\\programs\\python\\python311\\lib\\site-packages (from google-auth<3,>=1.6.3->tensorboard<2.13,>=2.12->tensorflow-intel==2.12.1->tensorflow==2.12.1) (4.9)\n",
      "Requirement already satisfied: urllib3<2.0 in c:\\users\\bhawy\\appdata\\local\\programs\\python\\python311\\lib\\site-packages (from google-auth<3,>=1.6.3->tensorboard<2.13,>=2.12->tensorflow-intel==2.12.1->tensorflow==2.12.1) (1.26.16)\n",
      "Requirement already satisfied: requests-oauthlib>=0.7.0 in c:\\users\\bhawy\\appdata\\local\\programs\\python\\python311\\lib\\site-packages (from google-auth-oauthlib<1.1,>=0.5->tensorboard<2.13,>=2.12->tensorflow-intel==2.12.1->tensorflow==2.12.1) (1.3.1)\n",
      "Requirement already satisfied: charset-normalizer<4,>=2 in c:\\users\\bhawy\\appdata\\local\\programs\\python\\python311\\lib\\site-packages (from requests<3,>=2.21.0->tensorboard<2.13,>=2.12->tensorflow-intel==2.12.1->tensorflow==2.12.1) (3.2.0)\n",
      "Requirement already satisfied: idna<4,>=2.5 in c:\\users\\bhawy\\appdata\\local\\programs\\python\\python311\\lib\\site-packages (from requests<3,>=2.21.0->tensorboard<2.13,>=2.12->tensorflow-intel==2.12.1->tensorflow==2.12.1) (3.4)\n",
      "Requirement already satisfied: certifi>=2017.4.17 in c:\\users\\bhawy\\appdata\\local\\programs\\python\\python311\\lib\\site-packages (from requests<3,>=2.21.0->tensorboard<2.13,>=2.12->tensorflow-intel==2.12.1->tensorflow==2.12.1) (2023.7.22)\n",
      "Requirement already satisfied: MarkupSafe>=2.1.1 in c:\\users\\bhawy\\appdata\\local\\programs\\python\\python311\\lib\\site-packages (from werkzeug>=1.0.1->tensorboard<2.13,>=2.12->tensorflow-intel==2.12.1->tensorflow==2.12.1) (2.1.3)\n",
      "Requirement already satisfied: pyasn1<0.6.0,>=0.4.6 in c:\\users\\bhawy\\appdata\\local\\programs\\python\\python311\\lib\\site-packages (from pyasn1-modules>=0.2.1->google-auth<3,>=1.6.3->tensorboard<2.13,>=2.12->tensorflow-intel==2.12.1->tensorflow==2.12.1) (0.5.0)\n",
      "Requirement already satisfied: oauthlib>=3.0.0 in c:\\users\\bhawy\\appdata\\local\\programs\\python\\python311\\lib\\site-packages (from requests-oauthlib>=0.7.0->google-auth-oauthlib<1.1,>=0.5->tensorboard<2.13,>=2.12->tensorflow-intel==2.12.1->tensorflow==2.12.1) (3.2.2)\n"
     ]
    }
   ],
   "source": [
    "!pip install tensorflow==2.12.1 opencv-python mediapipe matplotlib\n"
   ]
  },
  {
   "cell_type": "code",
   "execution_count": 7,
   "id": "21462009-d206-4e59-a97b-f0d50694aa3b",
   "metadata": {},
   "outputs": [
    {
     "name": "stdout",
     "output_type": "stream",
     "text": [
      "Requirement already satisfied: scikit-learn in c:\\users\\bhawy\\appdata\\local\\programs\\python\\python311\\lib\\site-packages (1.3.0)\n",
      "Requirement already satisfied: numpy>=1.17.3 in c:\\users\\bhawy\\appdata\\local\\programs\\python\\python311\\lib\\site-packages (from scikit-learn) (1.24.3)\n",
      "Requirement already satisfied: scipy>=1.5.0 in c:\\users\\bhawy\\appdata\\local\\programs\\python\\python311\\lib\\site-packages (from scikit-learn) (1.11.2)\n",
      "Requirement already satisfied: joblib>=1.1.1 in c:\\users\\bhawy\\appdata\\local\\programs\\python\\python311\\lib\\site-packages (from scikit-learn) (1.3.2)\n",
      "Requirement already satisfied: threadpoolctl>=2.0.0 in c:\\users\\bhawy\\appdata\\local\\programs\\python\\python311\\lib\\site-packages (from scikit-learn) (3.2.0)\n",
      "Note: you may need to restart the kernel to use updated packages.\n"
     ]
    }
   ],
   "source": [
    "pip install scikit-learn"
   ]
  },
  {
   "cell_type": "code",
   "execution_count": 9,
   "id": "9d18e1f0-3c9d-48e0-b46c-8690db2bbf1a",
   "metadata": {},
   "outputs": [],
   "source": [
    "import sklearn"
   ]
  },
  {
   "cell_type": "code",
   "execution_count": 10,
   "id": "26282b9c-100a-4dfa-bf7a-bb78c91c28c8",
   "metadata": {},
   "outputs": [],
   "source": [
    "import cv2\n",
    "import numpy as np \n",
    "import os \n",
    "from matplotlib import pyplot as plt \n",
    "import time \n",
    "import mediapipe as mp "
   ]
  },
  {
   "cell_type": "code",
   "execution_count": 11,
   "id": "79e87a26-1533-49ca-8620-48edbd0cd666",
   "metadata": {},
   "outputs": [],
   "source": [
    "mp_holistic = mp.solutions.holistic   #HOLISTIC MODEL \n",
    "mp_drawing = mp.solutions.drawing_utils #DRAWING UTILITIES "
   ]
  },
  {
   "cell_type": "code",
   "execution_count": 12,
   "id": "3a68d203-e07b-466e-80fc-fb3eba2578b6",
   "metadata": {},
   "outputs": [],
   "source": [
    "def mediapipe_detection(image, model):\n",
    "    image = cv2.cvtColor(image, cv2.COLOR_BGR2RGB)    #COLOR CONVERSION BGR TO RBG\n",
    "    image.flags.writeable = False\n",
    "    results = model.process(image)\n",
    "    image.flags.writeable = True\n",
    "    image = cv2.cvtColor(image , cv2.COLOR_RGB2BGR)\n",
    "    return image , results\n",
    "    "
   ]
  },
  {
   "cell_type": "code",
   "execution_count": null,
   "id": "7f89d241-1861-42da-b221-1142acdb0a51",
   "metadata": {},
   "outputs": [],
   "source": [
    "def draw_landmarks(image, results):\n",
    "    mp_drawing.draw_landmarks(image, result.face_landnarks, mp_holist.FACE_CONNECTIONS, mp_drawing.Draw"
   ]
  }
 ],
 "metadata": {
  "kernelspec": {
   "display_name": "Python 3 (ipykernel)",
   "language": "python",
   "name": "python3"
  },
  "language_info": {
   "codemirror_mode": {
    "name": "ipython",
    "version": 3
   },
   "file_extension": ".py",
   "mimetype": "text/x-python",
   "name": "python",
   "nbconvert_exporter": "python",
   "pygments_lexer": "ipython3",
   "version": "3.11.4"
  }
 },
 "nbformat": 4,
 "nbformat_minor": 5
}
